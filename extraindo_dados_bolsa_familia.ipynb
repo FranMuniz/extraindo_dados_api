{
 "cells": [
  {
   "cell_type": "markdown",
   "id": "424cfc7b",
   "metadata": {},
   "source": [
    "### Extraindo dados da API do portal da transparência do programa Novo Bolsa Família"
   ]
  },
  {
   "cell_type": "markdown",
   "id": "4f3f3537",
   "metadata": {},
   "source": [
    "* 1º - Baixar os dados de Novo Bolsa Família dos meses 01/2024 e 03/2024 pela API;\n",
    "* 2º - Filtrar os dados pelo município de Wanderlandia e verificar no mês 01/2024 quanto esse município recebeu;\n",
    "    * Reposta: 972.538,00\n",
    "* 3º - Contar quantos benefícios foram recebidos por UF e qual a UF que mais recebeu benefícios em 03/2024.\n",
    "    * Resposta: 'SP'"
   ]
  },
  {
   "cell_type": "code",
   "execution_count": 13,
   "id": "9612f1d4",
   "metadata": {},
   "outputs": [
    {
     "name": "stdout",
     "output_type": "stream",
     "text": [
      "Requirement already satisfied: requests in c:\\users\\francieli muniz\\anaconda3\\lib\\site-packages (2.32.3)\n",
      "Requirement already satisfied: charset-normalizer<4,>=2 in c:\\users\\francieli muniz\\anaconda3\\lib\\site-packages (from requests) (3.3.2)\n",
      "Requirement already satisfied: idna<4,>=2.5 in c:\\users\\francieli muniz\\anaconda3\\lib\\site-packages (from requests) (3.7)\n",
      "Requirement already satisfied: urllib3<3,>=1.21.1 in c:\\users\\francieli muniz\\anaconda3\\lib\\site-packages (from requests) (2.2.3)\n",
      "Requirement already satisfied: certifi>=2017.4.17 in c:\\users\\francieli muniz\\anaconda3\\lib\\site-packages (from requests) (2024.8.30)\n",
      "Requirement already satisfied: pandas in c:\\users\\francieli muniz\\anaconda3\\lib\\site-packages (2.2.2)\n",
      "Requirement already satisfied: numpy>=1.26.0 in c:\\users\\francieli muniz\\anaconda3\\lib\\site-packages (from pandas) (1.26.4)\n",
      "Requirement already satisfied: python-dateutil>=2.8.2 in c:\\users\\francieli muniz\\appdata\\roaming\\python\\python312\\site-packages (from pandas) (2.9.0.post0)\n",
      "Requirement already satisfied: pytz>=2020.1 in c:\\users\\francieli muniz\\anaconda3\\lib\\site-packages (from pandas) (2024.1)\n",
      "Requirement already satisfied: tzdata>=2022.7 in c:\\users\\francieli muniz\\anaconda3\\lib\\site-packages (from pandas) (2023.3)\n",
      "Requirement already satisfied: six>=1.5 in c:\\users\\francieli muniz\\appdata\\roaming\\python\\python312\\site-packages (from python-dateutil>=2.8.2->pandas) (1.16.0)\n"
     ]
    }
   ],
   "source": [
    "! pip install requests\n",
    "! pip install pandas"
   ]
  },
  {
   "cell_type": "code",
   "execution_count": 14,
   "id": "67f9089f",
   "metadata": {},
   "outputs": [],
   "source": [
    "import requests\n",
    "import pandas as pd\n",
    "from zipfile import ZipFile\n",
    "from io import BytesIO"
   ]
  },
  {
   "cell_type": "markdown",
   "id": "c720fd7e",
   "metadata": {},
   "source": [
    "### Criar função para baixar e extrair os dados"
   ]
  },
  {
   "cell_type": "code",
   "execution_count": 15,
   "id": "f0368c6f",
   "metadata": {},
   "outputs": [],
   "source": [
    "def baixar_e_extrair_dados(url):\n",
    "    # Envia uma requisição para baixar o arquivo\n",
    "    response = requests.get(url)\n",
    "\n",
    "    # Checa se a requisição foi bem sucedida\n",
    "    if response.status_code == 200:\n",
    "        tamanho_bytes = len(response.content)\n",
    "        tamanho_mb = tamanho_bytes / (1024 * 1024)\n",
    "        print(f'Tamanho do arquivo: {tamanho_bytes}B, ({tamanho_mb:.2f}MB)')\n",
    "\n",
    "        # Usa BytesIO para ler o arquivo ZIP da memória\n",
    "        with ZipFile(BytesIO(response.content)) as arquivo_zip:\n",
    "            nomes_arquivos = arquivo_zip.namelist()\n",
    "\n",
    "            if not nomes_arquivos:\n",
    "                print(\"O arquivo ZIP está vazio ou não contém arquivos.\")\n",
    "                return None\n",
    "\n",
    "            # Pega o nome do primeiro arquivo dentro do ZIP (assumindo que seja o CSV)\n",
    "            nome_arquivo_csv = nomes_arquivos[0]\n",
    "\n",
    "            # Abre o arquivo CSV *dentro do ZIP* usando arquivo_zip.open()\n",
    "            with arquivo_zip.open(nome_arquivo_csv) as arquivo_csv_interno:\n",
    "                # O pandas pode ler diretamente do objeto de arquivo retornado por zipfile.open()\n",
    "                # Definir o tamanho do chunk\n",
    "                chunk_size = 50000 # Número de linhas a serem lidas por vez\n",
    "                \n",
    "                # Use pd.read_csv com o objeto de arquivo interno\n",
    "                # Para evitar problemas de memória com arquivos grandes, use chunksize\n",
    "                df_chunks = pd.read_csv(arquivo_csv_interno, sep=';', encoding='ISO-8859-1', chunksize=chunk_size, low_memory=False)\n",
    "                \n",
    "                # Concatena os chunks em um único DataFrame\n",
    "                df = pd.concat(df_chunks)\n",
    "                \n",
    "                return df\n",
    "    else:\n",
    "        print(f'Falha no download do arquivo: Status: {response.status_code}')\n",
    "        return None\n",
    "\n"
   ]
  },
  {
   "cell_type": "markdown",
   "id": "210cc80a",
   "metadata": {},
   "source": [
    "### URL do arquivo de 01/2024"
   ]
  },
  {
   "cell_type": "code",
   "execution_count": 16,
   "id": "011649c2",
   "metadata": {},
   "outputs": [],
   "source": [
    "url = 'https://portaldatransparencia.gov.br/download-de-dados/novo-bolsa-familia/202401'"
   ]
  },
  {
   "cell_type": "code",
   "execution_count": null,
   "id": "9f0e830a",
   "metadata": {},
   "outputs": [
    {
     "ename": "KeyboardInterrupt",
     "evalue": "",
     "output_type": "error",
     "traceback": [
      "\u001b[1;31m---------------------------------------------------------------------------\u001b[0m",
      "\u001b[1;31mKeyboardInterrupt\u001b[0m                         Traceback (most recent call last)",
      "Cell \u001b[1;32mIn[25], line 1\u001b[0m\n\u001b[1;32m----> 1\u001b[0m dataFrame \u001b[38;5;241m=\u001b[39m \u001b[43mbaixar_e_extrair_dados\u001b[49m\u001b[43m(\u001b[49m\u001b[43murl\u001b[49m\u001b[43m)\u001b[49m\n",
      "Cell \u001b[1;32mIn[15], line 3\u001b[0m, in \u001b[0;36mbaixar_e_extrair_dados\u001b[1;34m(url)\u001b[0m\n\u001b[0;32m      1\u001b[0m \u001b[38;5;28;01mdef\u001b[39;00m \u001b[38;5;21mbaixar_e_extrair_dados\u001b[39m(url):\n\u001b[0;32m      2\u001b[0m     \u001b[38;5;66;03m# Envia uma requisição para baixar o arquivo\u001b[39;00m\n\u001b[1;32m----> 3\u001b[0m     response \u001b[38;5;241m=\u001b[39m \u001b[43mrequests\u001b[49m\u001b[38;5;241;43m.\u001b[39;49m\u001b[43mget\u001b[49m\u001b[43m(\u001b[49m\u001b[43murl\u001b[49m\u001b[43m)\u001b[49m\n\u001b[0;32m      5\u001b[0m     \u001b[38;5;66;03m# Checa se a requisição foi bem sucedida\u001b[39;00m\n\u001b[0;32m      6\u001b[0m     \u001b[38;5;28;01mif\u001b[39;00m response\u001b[38;5;241m.\u001b[39mstatus_code \u001b[38;5;241m==\u001b[39m \u001b[38;5;241m200\u001b[39m:\n",
      "File \u001b[1;32mc:\\Users\\Francieli Muniz\\anaconda3\\Lib\\site-packages\\requests\\api.py:73\u001b[0m, in \u001b[0;36mget\u001b[1;34m(url, params, **kwargs)\u001b[0m\n\u001b[0;32m     62\u001b[0m \u001b[38;5;28;01mdef\u001b[39;00m \u001b[38;5;21mget\u001b[39m(url, params\u001b[38;5;241m=\u001b[39m\u001b[38;5;28;01mNone\u001b[39;00m, \u001b[38;5;241m*\u001b[39m\u001b[38;5;241m*\u001b[39mkwargs):\n\u001b[0;32m     63\u001b[0m \u001b[38;5;250m    \u001b[39m\u001b[38;5;124mr\u001b[39m\u001b[38;5;124;03m\"\"\"Sends a GET request.\u001b[39;00m\n\u001b[0;32m     64\u001b[0m \n\u001b[0;32m     65\u001b[0m \u001b[38;5;124;03m    :param url: URL for the new :class:`Request` object.\u001b[39;00m\n\u001b[1;32m   (...)\u001b[0m\n\u001b[0;32m     70\u001b[0m \u001b[38;5;124;03m    :rtype: requests.Response\u001b[39;00m\n\u001b[0;32m     71\u001b[0m \u001b[38;5;124;03m    \"\"\"\u001b[39;00m\n\u001b[1;32m---> 73\u001b[0m     \u001b[38;5;28;01mreturn\u001b[39;00m \u001b[43mrequest\u001b[49m\u001b[43m(\u001b[49m\u001b[38;5;124;43m\"\u001b[39;49m\u001b[38;5;124;43mget\u001b[39;49m\u001b[38;5;124;43m\"\u001b[39;49m\u001b[43m,\u001b[49m\u001b[43m \u001b[49m\u001b[43murl\u001b[49m\u001b[43m,\u001b[49m\u001b[43m \u001b[49m\u001b[43mparams\u001b[49m\u001b[38;5;241;43m=\u001b[39;49m\u001b[43mparams\u001b[49m\u001b[43m,\u001b[49m\u001b[43m \u001b[49m\u001b[38;5;241;43m*\u001b[39;49m\u001b[38;5;241;43m*\u001b[39;49m\u001b[43mkwargs\u001b[49m\u001b[43m)\u001b[49m\n",
      "File \u001b[1;32mc:\\Users\\Francieli Muniz\\anaconda3\\Lib\\site-packages\\requests\\api.py:59\u001b[0m, in \u001b[0;36mrequest\u001b[1;34m(method, url, **kwargs)\u001b[0m\n\u001b[0;32m     55\u001b[0m \u001b[38;5;66;03m# By using the 'with' statement we are sure the session is closed, thus we\u001b[39;00m\n\u001b[0;32m     56\u001b[0m \u001b[38;5;66;03m# avoid leaving sockets open which can trigger a ResourceWarning in some\u001b[39;00m\n\u001b[0;32m     57\u001b[0m \u001b[38;5;66;03m# cases, and look like a memory leak in others.\u001b[39;00m\n\u001b[0;32m     58\u001b[0m \u001b[38;5;28;01mwith\u001b[39;00m sessions\u001b[38;5;241m.\u001b[39mSession() \u001b[38;5;28;01mas\u001b[39;00m session:\n\u001b[1;32m---> 59\u001b[0m     \u001b[38;5;28;01mreturn\u001b[39;00m \u001b[43msession\u001b[49m\u001b[38;5;241;43m.\u001b[39;49m\u001b[43mrequest\u001b[49m\u001b[43m(\u001b[49m\u001b[43mmethod\u001b[49m\u001b[38;5;241;43m=\u001b[39;49m\u001b[43mmethod\u001b[49m\u001b[43m,\u001b[49m\u001b[43m \u001b[49m\u001b[43murl\u001b[49m\u001b[38;5;241;43m=\u001b[39;49m\u001b[43murl\u001b[49m\u001b[43m,\u001b[49m\u001b[43m \u001b[49m\u001b[38;5;241;43m*\u001b[39;49m\u001b[38;5;241;43m*\u001b[39;49m\u001b[43mkwargs\u001b[49m\u001b[43m)\u001b[49m\n",
      "File \u001b[1;32mc:\\Users\\Francieli Muniz\\anaconda3\\Lib\\site-packages\\requests\\sessions.py:589\u001b[0m, in \u001b[0;36mSession.request\u001b[1;34m(self, method, url, params, data, headers, cookies, files, auth, timeout, allow_redirects, proxies, hooks, stream, verify, cert, json)\u001b[0m\n\u001b[0;32m    584\u001b[0m send_kwargs \u001b[38;5;241m=\u001b[39m {\n\u001b[0;32m    585\u001b[0m     \u001b[38;5;124m\"\u001b[39m\u001b[38;5;124mtimeout\u001b[39m\u001b[38;5;124m\"\u001b[39m: timeout,\n\u001b[0;32m    586\u001b[0m     \u001b[38;5;124m\"\u001b[39m\u001b[38;5;124mallow_redirects\u001b[39m\u001b[38;5;124m\"\u001b[39m: allow_redirects,\n\u001b[0;32m    587\u001b[0m }\n\u001b[0;32m    588\u001b[0m send_kwargs\u001b[38;5;241m.\u001b[39mupdate(settings)\n\u001b[1;32m--> 589\u001b[0m resp \u001b[38;5;241m=\u001b[39m \u001b[38;5;28;43mself\u001b[39;49m\u001b[38;5;241;43m.\u001b[39;49m\u001b[43msend\u001b[49m\u001b[43m(\u001b[49m\u001b[43mprep\u001b[49m\u001b[43m,\u001b[49m\u001b[43m \u001b[49m\u001b[38;5;241;43m*\u001b[39;49m\u001b[38;5;241;43m*\u001b[39;49m\u001b[43msend_kwargs\u001b[49m\u001b[43m)\u001b[49m\n\u001b[0;32m    591\u001b[0m \u001b[38;5;28;01mreturn\u001b[39;00m resp\n",
      "File \u001b[1;32mc:\\Users\\Francieli Muniz\\anaconda3\\Lib\\site-packages\\requests\\sessions.py:724\u001b[0m, in \u001b[0;36mSession.send\u001b[1;34m(self, request, **kwargs)\u001b[0m\n\u001b[0;32m    721\u001b[0m \u001b[38;5;28;01mif\u001b[39;00m allow_redirects:\n\u001b[0;32m    722\u001b[0m     \u001b[38;5;66;03m# Redirect resolving generator.\u001b[39;00m\n\u001b[0;32m    723\u001b[0m     gen \u001b[38;5;241m=\u001b[39m \u001b[38;5;28mself\u001b[39m\u001b[38;5;241m.\u001b[39mresolve_redirects(r, request, \u001b[38;5;241m*\u001b[39m\u001b[38;5;241m*\u001b[39mkwargs)\n\u001b[1;32m--> 724\u001b[0m     history \u001b[38;5;241m=\u001b[39m \u001b[43m[\u001b[49m\u001b[43mresp\u001b[49m\u001b[43m \u001b[49m\u001b[38;5;28;43;01mfor\u001b[39;49;00m\u001b[43m \u001b[49m\u001b[43mresp\u001b[49m\u001b[43m \u001b[49m\u001b[38;5;129;43;01min\u001b[39;49;00m\u001b[43m \u001b[49m\u001b[43mgen\u001b[49m\u001b[43m]\u001b[49m\n\u001b[0;32m    725\u001b[0m \u001b[38;5;28;01melse\u001b[39;00m:\n\u001b[0;32m    726\u001b[0m     history \u001b[38;5;241m=\u001b[39m []\n",
      "File \u001b[1;32mc:\\Users\\Francieli Muniz\\anaconda3\\Lib\\site-packages\\requests\\sessions.py:265\u001b[0m, in \u001b[0;36mSessionRedirectMixin.resolve_redirects\u001b[1;34m(self, resp, req, stream, timeout, verify, cert, proxies, yield_requests, **adapter_kwargs)\u001b[0m\n\u001b[0;32m    263\u001b[0m     \u001b[38;5;28;01myield\u001b[39;00m req\n\u001b[0;32m    264\u001b[0m \u001b[38;5;28;01melse\u001b[39;00m:\n\u001b[1;32m--> 265\u001b[0m     resp \u001b[38;5;241m=\u001b[39m \u001b[38;5;28;43mself\u001b[39;49m\u001b[38;5;241;43m.\u001b[39;49m\u001b[43msend\u001b[49m\u001b[43m(\u001b[49m\n\u001b[0;32m    266\u001b[0m \u001b[43m        \u001b[49m\u001b[43mreq\u001b[49m\u001b[43m,\u001b[49m\n\u001b[0;32m    267\u001b[0m \u001b[43m        \u001b[49m\u001b[43mstream\u001b[49m\u001b[38;5;241;43m=\u001b[39;49m\u001b[43mstream\u001b[49m\u001b[43m,\u001b[49m\n\u001b[0;32m    268\u001b[0m \u001b[43m        \u001b[49m\u001b[43mtimeout\u001b[49m\u001b[38;5;241;43m=\u001b[39;49m\u001b[43mtimeout\u001b[49m\u001b[43m,\u001b[49m\n\u001b[0;32m    269\u001b[0m \u001b[43m        \u001b[49m\u001b[43mverify\u001b[49m\u001b[38;5;241;43m=\u001b[39;49m\u001b[43mverify\u001b[49m\u001b[43m,\u001b[49m\n\u001b[0;32m    270\u001b[0m \u001b[43m        \u001b[49m\u001b[43mcert\u001b[49m\u001b[38;5;241;43m=\u001b[39;49m\u001b[43mcert\u001b[49m\u001b[43m,\u001b[49m\n\u001b[0;32m    271\u001b[0m \u001b[43m        \u001b[49m\u001b[43mproxies\u001b[49m\u001b[38;5;241;43m=\u001b[39;49m\u001b[43mproxies\u001b[49m\u001b[43m,\u001b[49m\n\u001b[0;32m    272\u001b[0m \u001b[43m        \u001b[49m\u001b[43mallow_redirects\u001b[49m\u001b[38;5;241;43m=\u001b[39;49m\u001b[38;5;28;43;01mFalse\u001b[39;49;00m\u001b[43m,\u001b[49m\n\u001b[0;32m    273\u001b[0m \u001b[43m        \u001b[49m\u001b[38;5;241;43m*\u001b[39;49m\u001b[38;5;241;43m*\u001b[39;49m\u001b[43madapter_kwargs\u001b[49m\u001b[43m,\u001b[49m\n\u001b[0;32m    274\u001b[0m \u001b[43m    \u001b[49m\u001b[43m)\u001b[49m\n\u001b[0;32m    276\u001b[0m     extract_cookies_to_jar(\u001b[38;5;28mself\u001b[39m\u001b[38;5;241m.\u001b[39mcookies, prepared_request, resp\u001b[38;5;241m.\u001b[39mraw)\n\u001b[0;32m    278\u001b[0m     \u001b[38;5;66;03m# extract redirect url, if any, for the next loop\u001b[39;00m\n",
      "File \u001b[1;32mc:\\Users\\Francieli Muniz\\anaconda3\\Lib\\site-packages\\requests\\sessions.py:746\u001b[0m, in \u001b[0;36mSession.send\u001b[1;34m(self, request, **kwargs)\u001b[0m\n\u001b[0;32m    743\u001b[0m         \u001b[38;5;28;01mpass\u001b[39;00m\n\u001b[0;32m    745\u001b[0m \u001b[38;5;28;01mif\u001b[39;00m \u001b[38;5;129;01mnot\u001b[39;00m stream:\n\u001b[1;32m--> 746\u001b[0m     \u001b[43mr\u001b[49m\u001b[38;5;241;43m.\u001b[39;49m\u001b[43mcontent\u001b[49m\n\u001b[0;32m    748\u001b[0m \u001b[38;5;28;01mreturn\u001b[39;00m r\n",
      "File \u001b[1;32mc:\\Users\\Francieli Muniz\\anaconda3\\Lib\\site-packages\\requests\\models.py:902\u001b[0m, in \u001b[0;36mResponse.content\u001b[1;34m(self)\u001b[0m\n\u001b[0;32m    900\u001b[0m         \u001b[38;5;28mself\u001b[39m\u001b[38;5;241m.\u001b[39m_content \u001b[38;5;241m=\u001b[39m \u001b[38;5;28;01mNone\u001b[39;00m\n\u001b[0;32m    901\u001b[0m     \u001b[38;5;28;01melse\u001b[39;00m:\n\u001b[1;32m--> 902\u001b[0m         \u001b[38;5;28mself\u001b[39m\u001b[38;5;241m.\u001b[39m_content \u001b[38;5;241m=\u001b[39m \u001b[38;5;124;43mb\u001b[39;49m\u001b[38;5;124;43m\"\u001b[39;49m\u001b[38;5;124;43m\"\u001b[39;49m\u001b[38;5;241;43m.\u001b[39;49m\u001b[43mjoin\u001b[49m\u001b[43m(\u001b[49m\u001b[38;5;28;43mself\u001b[39;49m\u001b[38;5;241;43m.\u001b[39;49m\u001b[43miter_content\u001b[49m\u001b[43m(\u001b[49m\u001b[43mCONTENT_CHUNK_SIZE\u001b[49m\u001b[43m)\u001b[49m\u001b[43m)\u001b[49m \u001b[38;5;129;01mor\u001b[39;00m \u001b[38;5;124mb\u001b[39m\u001b[38;5;124m\"\u001b[39m\u001b[38;5;124m\"\u001b[39m\n\u001b[0;32m    904\u001b[0m \u001b[38;5;28mself\u001b[39m\u001b[38;5;241m.\u001b[39m_content_consumed \u001b[38;5;241m=\u001b[39m \u001b[38;5;28;01mTrue\u001b[39;00m\n\u001b[0;32m    905\u001b[0m \u001b[38;5;66;03m# don't need to release the connection; that's been handled by urllib3\u001b[39;00m\n\u001b[0;32m    906\u001b[0m \u001b[38;5;66;03m# since we exhausted the data.\u001b[39;00m\n",
      "File \u001b[1;32mc:\\Users\\Francieli Muniz\\anaconda3\\Lib\\site-packages\\requests\\models.py:820\u001b[0m, in \u001b[0;36mResponse.iter_content.<locals>.generate\u001b[1;34m()\u001b[0m\n\u001b[0;32m    818\u001b[0m \u001b[38;5;28;01mif\u001b[39;00m \u001b[38;5;28mhasattr\u001b[39m(\u001b[38;5;28mself\u001b[39m\u001b[38;5;241m.\u001b[39mraw, \u001b[38;5;124m\"\u001b[39m\u001b[38;5;124mstream\u001b[39m\u001b[38;5;124m\"\u001b[39m):\n\u001b[0;32m    819\u001b[0m     \u001b[38;5;28;01mtry\u001b[39;00m:\n\u001b[1;32m--> 820\u001b[0m         \u001b[38;5;28;01myield from\u001b[39;00m \u001b[38;5;28mself\u001b[39m\u001b[38;5;241m.\u001b[39mraw\u001b[38;5;241m.\u001b[39mstream(chunk_size, decode_content\u001b[38;5;241m=\u001b[39m\u001b[38;5;28;01mTrue\u001b[39;00m)\n\u001b[0;32m    821\u001b[0m     \u001b[38;5;28;01mexcept\u001b[39;00m ProtocolError \u001b[38;5;28;01mas\u001b[39;00m e:\n\u001b[0;32m    822\u001b[0m         \u001b[38;5;28;01mraise\u001b[39;00m ChunkedEncodingError(e)\n",
      "File \u001b[1;32mc:\\Users\\Francieli Muniz\\anaconda3\\Lib\\site-packages\\urllib3\\response.py:1060\u001b[0m, in \u001b[0;36mHTTPResponse.stream\u001b[1;34m(self, amt, decode_content)\u001b[0m\n\u001b[0;32m   1058\u001b[0m \u001b[38;5;28;01melse\u001b[39;00m:\n\u001b[0;32m   1059\u001b[0m     \u001b[38;5;28;01mwhile\u001b[39;00m \u001b[38;5;129;01mnot\u001b[39;00m is_fp_closed(\u001b[38;5;28mself\u001b[39m\u001b[38;5;241m.\u001b[39m_fp) \u001b[38;5;129;01mor\u001b[39;00m \u001b[38;5;28mlen\u001b[39m(\u001b[38;5;28mself\u001b[39m\u001b[38;5;241m.\u001b[39m_decoded_buffer) \u001b[38;5;241m>\u001b[39m \u001b[38;5;241m0\u001b[39m:\n\u001b[1;32m-> 1060\u001b[0m         data \u001b[38;5;241m=\u001b[39m \u001b[38;5;28;43mself\u001b[39;49m\u001b[38;5;241;43m.\u001b[39;49m\u001b[43mread\u001b[49m\u001b[43m(\u001b[49m\u001b[43mamt\u001b[49m\u001b[38;5;241;43m=\u001b[39;49m\u001b[43mamt\u001b[49m\u001b[43m,\u001b[49m\u001b[43m \u001b[49m\u001b[43mdecode_content\u001b[49m\u001b[38;5;241;43m=\u001b[39;49m\u001b[43mdecode_content\u001b[49m\u001b[43m)\u001b[49m\n\u001b[0;32m   1062\u001b[0m         \u001b[38;5;28;01mif\u001b[39;00m data:\n\u001b[0;32m   1063\u001b[0m             \u001b[38;5;28;01myield\u001b[39;00m data\n",
      "File \u001b[1;32mc:\\Users\\Francieli Muniz\\anaconda3\\Lib\\site-packages\\urllib3\\response.py:949\u001b[0m, in \u001b[0;36mHTTPResponse.read\u001b[1;34m(self, amt, decode_content, cache_content)\u001b[0m\n\u001b[0;32m    946\u001b[0m     \u001b[38;5;28;01mif\u001b[39;00m \u001b[38;5;28mlen\u001b[39m(\u001b[38;5;28mself\u001b[39m\u001b[38;5;241m.\u001b[39m_decoded_buffer) \u001b[38;5;241m>\u001b[39m\u001b[38;5;241m=\u001b[39m amt:\n\u001b[0;32m    947\u001b[0m         \u001b[38;5;28;01mreturn\u001b[39;00m \u001b[38;5;28mself\u001b[39m\u001b[38;5;241m.\u001b[39m_decoded_buffer\u001b[38;5;241m.\u001b[39mget(amt)\n\u001b[1;32m--> 949\u001b[0m data \u001b[38;5;241m=\u001b[39m \u001b[38;5;28;43mself\u001b[39;49m\u001b[38;5;241;43m.\u001b[39;49m\u001b[43m_raw_read\u001b[49m\u001b[43m(\u001b[49m\u001b[43mamt\u001b[49m\u001b[43m)\u001b[49m\n\u001b[0;32m    951\u001b[0m flush_decoder \u001b[38;5;241m=\u001b[39m amt \u001b[38;5;129;01mis\u001b[39;00m \u001b[38;5;28;01mNone\u001b[39;00m \u001b[38;5;129;01mor\u001b[39;00m (amt \u001b[38;5;241m!=\u001b[39m \u001b[38;5;241m0\u001b[39m \u001b[38;5;129;01mand\u001b[39;00m \u001b[38;5;129;01mnot\u001b[39;00m data)\n\u001b[0;32m    953\u001b[0m \u001b[38;5;28;01mif\u001b[39;00m \u001b[38;5;129;01mnot\u001b[39;00m data \u001b[38;5;129;01mand\u001b[39;00m \u001b[38;5;28mlen\u001b[39m(\u001b[38;5;28mself\u001b[39m\u001b[38;5;241m.\u001b[39m_decoded_buffer) \u001b[38;5;241m==\u001b[39m \u001b[38;5;241m0\u001b[39m:\n",
      "File \u001b[1;32mc:\\Users\\Francieli Muniz\\anaconda3\\Lib\\site-packages\\urllib3\\response.py:873\u001b[0m, in \u001b[0;36mHTTPResponse._raw_read\u001b[1;34m(self, amt, read1)\u001b[0m\n\u001b[0;32m    870\u001b[0m fp_closed \u001b[38;5;241m=\u001b[39m \u001b[38;5;28mgetattr\u001b[39m(\u001b[38;5;28mself\u001b[39m\u001b[38;5;241m.\u001b[39m_fp, \u001b[38;5;124m\"\u001b[39m\u001b[38;5;124mclosed\u001b[39m\u001b[38;5;124m\"\u001b[39m, \u001b[38;5;28;01mFalse\u001b[39;00m)\n\u001b[0;32m    872\u001b[0m \u001b[38;5;28;01mwith\u001b[39;00m \u001b[38;5;28mself\u001b[39m\u001b[38;5;241m.\u001b[39m_error_catcher():\n\u001b[1;32m--> 873\u001b[0m     data \u001b[38;5;241m=\u001b[39m \u001b[38;5;28;43mself\u001b[39;49m\u001b[38;5;241;43m.\u001b[39;49m\u001b[43m_fp_read\u001b[49m\u001b[43m(\u001b[49m\u001b[43mamt\u001b[49m\u001b[43m,\u001b[49m\u001b[43m \u001b[49m\u001b[43mread1\u001b[49m\u001b[38;5;241;43m=\u001b[39;49m\u001b[43mread1\u001b[49m\u001b[43m)\u001b[49m \u001b[38;5;28;01mif\u001b[39;00m \u001b[38;5;129;01mnot\u001b[39;00m fp_closed \u001b[38;5;28;01melse\u001b[39;00m \u001b[38;5;124mb\u001b[39m\u001b[38;5;124m\"\u001b[39m\u001b[38;5;124m\"\u001b[39m\n\u001b[0;32m    874\u001b[0m     \u001b[38;5;28;01mif\u001b[39;00m amt \u001b[38;5;129;01mis\u001b[39;00m \u001b[38;5;129;01mnot\u001b[39;00m \u001b[38;5;28;01mNone\u001b[39;00m \u001b[38;5;129;01mand\u001b[39;00m amt \u001b[38;5;241m!=\u001b[39m \u001b[38;5;241m0\u001b[39m \u001b[38;5;129;01mand\u001b[39;00m \u001b[38;5;129;01mnot\u001b[39;00m data:\n\u001b[0;32m    875\u001b[0m         \u001b[38;5;66;03m# Platform-specific: Buggy versions of Python.\u001b[39;00m\n\u001b[0;32m    876\u001b[0m         \u001b[38;5;66;03m# Close the connection when no data is returned\u001b[39;00m\n\u001b[1;32m   (...)\u001b[0m\n\u001b[0;32m    881\u001b[0m         \u001b[38;5;66;03m# not properly close the connection in all cases. There is\u001b[39;00m\n\u001b[0;32m    882\u001b[0m         \u001b[38;5;66;03m# no harm in redundantly calling close.\u001b[39;00m\n\u001b[0;32m    883\u001b[0m         \u001b[38;5;28mself\u001b[39m\u001b[38;5;241m.\u001b[39m_fp\u001b[38;5;241m.\u001b[39mclose()\n",
      "File \u001b[1;32mc:\\Users\\Francieli Muniz\\anaconda3\\Lib\\site-packages\\urllib3\\response.py:856\u001b[0m, in \u001b[0;36mHTTPResponse._fp_read\u001b[1;34m(self, amt, read1)\u001b[0m\n\u001b[0;32m    853\u001b[0m     \u001b[38;5;28;01mreturn\u001b[39;00m \u001b[38;5;28mself\u001b[39m\u001b[38;5;241m.\u001b[39m_fp\u001b[38;5;241m.\u001b[39mread1(amt) \u001b[38;5;28;01mif\u001b[39;00m amt \u001b[38;5;129;01mis\u001b[39;00m \u001b[38;5;129;01mnot\u001b[39;00m \u001b[38;5;28;01mNone\u001b[39;00m \u001b[38;5;28;01melse\u001b[39;00m \u001b[38;5;28mself\u001b[39m\u001b[38;5;241m.\u001b[39m_fp\u001b[38;5;241m.\u001b[39mread1()\n\u001b[0;32m    854\u001b[0m \u001b[38;5;28;01melse\u001b[39;00m:\n\u001b[0;32m    855\u001b[0m     \u001b[38;5;66;03m# StringIO doesn't like amt=None\u001b[39;00m\n\u001b[1;32m--> 856\u001b[0m     \u001b[38;5;28;01mreturn\u001b[39;00m \u001b[38;5;28;43mself\u001b[39;49m\u001b[38;5;241;43m.\u001b[39;49m\u001b[43m_fp\u001b[49m\u001b[38;5;241;43m.\u001b[39;49m\u001b[43mread\u001b[49m\u001b[43m(\u001b[49m\u001b[43mamt\u001b[49m\u001b[43m)\u001b[49m \u001b[38;5;28;01mif\u001b[39;00m amt \u001b[38;5;129;01mis\u001b[39;00m \u001b[38;5;129;01mnot\u001b[39;00m \u001b[38;5;28;01mNone\u001b[39;00m \u001b[38;5;28;01melse\u001b[39;00m \u001b[38;5;28mself\u001b[39m\u001b[38;5;241m.\u001b[39m_fp\u001b[38;5;241m.\u001b[39mread()\n",
      "File \u001b[1;32mc:\\Users\\Francieli Muniz\\anaconda3\\Lib\\http\\client.py:479\u001b[0m, in \u001b[0;36mHTTPResponse.read\u001b[1;34m(self, amt)\u001b[0m\n\u001b[0;32m    476\u001b[0m \u001b[38;5;28;01mif\u001b[39;00m \u001b[38;5;28mself\u001b[39m\u001b[38;5;241m.\u001b[39mlength \u001b[38;5;129;01mis\u001b[39;00m \u001b[38;5;129;01mnot\u001b[39;00m \u001b[38;5;28;01mNone\u001b[39;00m \u001b[38;5;129;01mand\u001b[39;00m amt \u001b[38;5;241m>\u001b[39m \u001b[38;5;28mself\u001b[39m\u001b[38;5;241m.\u001b[39mlength:\n\u001b[0;32m    477\u001b[0m     \u001b[38;5;66;03m# clip the read to the \"end of response\"\u001b[39;00m\n\u001b[0;32m    478\u001b[0m     amt \u001b[38;5;241m=\u001b[39m \u001b[38;5;28mself\u001b[39m\u001b[38;5;241m.\u001b[39mlength\n\u001b[1;32m--> 479\u001b[0m s \u001b[38;5;241m=\u001b[39m \u001b[38;5;28;43mself\u001b[39;49m\u001b[38;5;241;43m.\u001b[39;49m\u001b[43mfp\u001b[49m\u001b[38;5;241;43m.\u001b[39;49m\u001b[43mread\u001b[49m\u001b[43m(\u001b[49m\u001b[43mamt\u001b[49m\u001b[43m)\u001b[49m\n\u001b[0;32m    480\u001b[0m \u001b[38;5;28;01mif\u001b[39;00m \u001b[38;5;129;01mnot\u001b[39;00m s \u001b[38;5;129;01mand\u001b[39;00m amt:\n\u001b[0;32m    481\u001b[0m     \u001b[38;5;66;03m# Ideally, we would raise IncompleteRead if the content-length\u001b[39;00m\n\u001b[0;32m    482\u001b[0m     \u001b[38;5;66;03m# wasn't satisfied, but it might break compatibility.\u001b[39;00m\n\u001b[0;32m    483\u001b[0m     \u001b[38;5;28mself\u001b[39m\u001b[38;5;241m.\u001b[39m_close_conn()\n",
      "File \u001b[1;32mc:\\Users\\Francieli Muniz\\anaconda3\\Lib\\socket.py:720\u001b[0m, in \u001b[0;36mSocketIO.readinto\u001b[1;34m(self, b)\u001b[0m\n\u001b[0;32m    718\u001b[0m \u001b[38;5;28;01mwhile\u001b[39;00m \u001b[38;5;28;01mTrue\u001b[39;00m:\n\u001b[0;32m    719\u001b[0m     \u001b[38;5;28;01mtry\u001b[39;00m:\n\u001b[1;32m--> 720\u001b[0m         \u001b[38;5;28;01mreturn\u001b[39;00m \u001b[38;5;28;43mself\u001b[39;49m\u001b[38;5;241;43m.\u001b[39;49m\u001b[43m_sock\u001b[49m\u001b[38;5;241;43m.\u001b[39;49m\u001b[43mrecv_into\u001b[49m\u001b[43m(\u001b[49m\u001b[43mb\u001b[49m\u001b[43m)\u001b[49m\n\u001b[0;32m    721\u001b[0m     \u001b[38;5;28;01mexcept\u001b[39;00m timeout:\n\u001b[0;32m    722\u001b[0m         \u001b[38;5;28mself\u001b[39m\u001b[38;5;241m.\u001b[39m_timeout_occurred \u001b[38;5;241m=\u001b[39m \u001b[38;5;28;01mTrue\u001b[39;00m\n",
      "File \u001b[1;32mc:\\Users\\Francieli Muniz\\anaconda3\\Lib\\ssl.py:1251\u001b[0m, in \u001b[0;36mSSLSocket.recv_into\u001b[1;34m(self, buffer, nbytes, flags)\u001b[0m\n\u001b[0;32m   1247\u001b[0m     \u001b[38;5;28;01mif\u001b[39;00m flags \u001b[38;5;241m!=\u001b[39m \u001b[38;5;241m0\u001b[39m:\n\u001b[0;32m   1248\u001b[0m         \u001b[38;5;28;01mraise\u001b[39;00m \u001b[38;5;167;01mValueError\u001b[39;00m(\n\u001b[0;32m   1249\u001b[0m           \u001b[38;5;124m\"\u001b[39m\u001b[38;5;124mnon-zero flags not allowed in calls to recv_into() on \u001b[39m\u001b[38;5;132;01m%s\u001b[39;00m\u001b[38;5;124m\"\u001b[39m \u001b[38;5;241m%\u001b[39m\n\u001b[0;32m   1250\u001b[0m           \u001b[38;5;28mself\u001b[39m\u001b[38;5;241m.\u001b[39m\u001b[38;5;18m__class__\u001b[39m)\n\u001b[1;32m-> 1251\u001b[0m     \u001b[38;5;28;01mreturn\u001b[39;00m \u001b[38;5;28;43mself\u001b[39;49m\u001b[38;5;241;43m.\u001b[39;49m\u001b[43mread\u001b[49m\u001b[43m(\u001b[49m\u001b[43mnbytes\u001b[49m\u001b[43m,\u001b[49m\u001b[43m \u001b[49m\u001b[43mbuffer\u001b[49m\u001b[43m)\u001b[49m\n\u001b[0;32m   1252\u001b[0m \u001b[38;5;28;01melse\u001b[39;00m:\n\u001b[0;32m   1253\u001b[0m     \u001b[38;5;28;01mreturn\u001b[39;00m \u001b[38;5;28msuper\u001b[39m()\u001b[38;5;241m.\u001b[39mrecv_into(buffer, nbytes, flags)\n",
      "File \u001b[1;32mc:\\Users\\Francieli Muniz\\anaconda3\\Lib\\ssl.py:1103\u001b[0m, in \u001b[0;36mSSLSocket.read\u001b[1;34m(self, len, buffer)\u001b[0m\n\u001b[0;32m   1101\u001b[0m \u001b[38;5;28;01mtry\u001b[39;00m:\n\u001b[0;32m   1102\u001b[0m     \u001b[38;5;28;01mif\u001b[39;00m buffer \u001b[38;5;129;01mis\u001b[39;00m \u001b[38;5;129;01mnot\u001b[39;00m \u001b[38;5;28;01mNone\u001b[39;00m:\n\u001b[1;32m-> 1103\u001b[0m         \u001b[38;5;28;01mreturn\u001b[39;00m \u001b[38;5;28;43mself\u001b[39;49m\u001b[38;5;241;43m.\u001b[39;49m\u001b[43m_sslobj\u001b[49m\u001b[38;5;241;43m.\u001b[39;49m\u001b[43mread\u001b[49m\u001b[43m(\u001b[49m\u001b[38;5;28;43mlen\u001b[39;49m\u001b[43m,\u001b[49m\u001b[43m \u001b[49m\u001b[43mbuffer\u001b[49m\u001b[43m)\u001b[49m\n\u001b[0;32m   1104\u001b[0m     \u001b[38;5;28;01melse\u001b[39;00m:\n\u001b[0;32m   1105\u001b[0m         \u001b[38;5;28;01mreturn\u001b[39;00m \u001b[38;5;28mself\u001b[39m\u001b[38;5;241m.\u001b[39m_sslobj\u001b[38;5;241m.\u001b[39mread(\u001b[38;5;28mlen\u001b[39m)\n",
      "\u001b[1;31mKeyboardInterrupt\u001b[0m: "
     ]
    }
   ],
   "source": [
    "# Baixar, extrair e ler os dados de 01/2024\n",
    "df = baixar_e_extrair_dados(url)"
   ]
  },
  {
   "cell_type": "code",
   "execution_count": null,
   "id": "0d7fd158",
   "metadata": {},
   "outputs": [
    {
     "data": {
      "text/html": [
       "<div>\n",
       "<style scoped>\n",
       "    .dataframe tbody tr th:only-of-type {\n",
       "        vertical-align: middle;\n",
       "    }\n",
       "\n",
       "    .dataframe tbody tr th {\n",
       "        vertical-align: top;\n",
       "    }\n",
       "\n",
       "    .dataframe thead th {\n",
       "        text-align: right;\n",
       "    }\n",
       "</style>\n",
       "<table border=\"1\" class=\"dataframe\">\n",
       "  <thead>\n",
       "    <tr style=\"text-align: right;\">\n",
       "      <th></th>\n",
       "      <th>MÊS COMPETÊNCIA</th>\n",
       "      <th>MÊS REFERÊNCIA</th>\n",
       "      <th>UF</th>\n",
       "      <th>CÓDIGO MUNICÍPIO SIAFI</th>\n",
       "      <th>NOME MUNICÍPIO</th>\n",
       "      <th>CPF FAVORECIDO</th>\n",
       "      <th>NIS FAVORECIDO</th>\n",
       "      <th>NOME FAVORECIDO</th>\n",
       "      <th>VALOR PARCELA</th>\n",
       "    </tr>\n",
       "  </thead>\n",
       "  <tbody>\n",
       "    <tr>\n",
       "      <th>0</th>\n",
       "      <td>202401</td>\n",
       "      <td>202303</td>\n",
       "      <td>AC</td>\n",
       "      <td>139</td>\n",
       "      <td>RIO BRANCO</td>\n",
       "      <td>***.511.972-**</td>\n",
       "      <td>1.629112e+10</td>\n",
       "      <td>JANAINA FERREIRA DA SILVA</td>\n",
       "      <td>800,00</td>\n",
       "    </tr>\n",
       "    <tr>\n",
       "      <th>1</th>\n",
       "      <td>202401</td>\n",
       "      <td>202303</td>\n",
       "      <td>BA</td>\n",
       "      <td>3329</td>\n",
       "      <td>ANGUERA</td>\n",
       "      <td>***.909.745-**</td>\n",
       "      <td>2.047443e+10</td>\n",
       "      <td>TACIANE MARQUES DA SILVA</td>\n",
       "      <td>750,00</td>\n",
       "    </tr>\n",
       "    <tr>\n",
       "      <th>2</th>\n",
       "      <td>202401</td>\n",
       "      <td>202303</td>\n",
       "      <td>BA</td>\n",
       "      <td>3731</td>\n",
       "      <td>MONTE SANTO</td>\n",
       "      <td>***.872.338-**</td>\n",
       "      <td>2.019538e+10</td>\n",
       "      <td>MAILSON DOS SANTOS SILVA</td>\n",
       "      <td>650,00</td>\n",
       "    </tr>\n",
       "    <tr>\n",
       "      <th>3</th>\n",
       "      <td>202401</td>\n",
       "      <td>202303</td>\n",
       "      <td>BA</td>\n",
       "      <td>3761</td>\n",
       "      <td>NOVA VICOSA</td>\n",
       "      <td>***.665.905-**</td>\n",
       "      <td>1.272359e+10</td>\n",
       "      <td>IRENI RICARDO GERALDO</td>\n",
       "      <td>650,00</td>\n",
       "    </tr>\n",
       "    <tr>\n",
       "      <th>4</th>\n",
       "      <td>202401</td>\n",
       "      <td>202303</td>\n",
       "      <td>BA</td>\n",
       "      <td>3849</td>\n",
       "      <td>SALVADOR</td>\n",
       "      <td>***.932.435-**</td>\n",
       "      <td>2.002458e+10</td>\n",
       "      <td>ELIENE GOMES DOS SANTOS</td>\n",
       "      <td>850,00</td>\n",
       "    </tr>\n",
       "  </tbody>\n",
       "</table>\n",
       "</div>"
      ],
      "text/plain": [
       "   MÊS COMPETÊNCIA  MÊS REFERÊNCIA  UF  CÓDIGO MUNICÍPIO SIAFI NOME MUNICÍPIO  \\\n",
       "0           202401          202303  AC                     139     RIO BRANCO   \n",
       "1           202401          202303  BA                    3329        ANGUERA   \n",
       "2           202401          202303  BA                    3731    MONTE SANTO   \n",
       "3           202401          202303  BA                    3761    NOVA VICOSA   \n",
       "4           202401          202303  BA                    3849       SALVADOR   \n",
       "\n",
       "   CPF FAVORECIDO  NIS FAVORECIDO            NOME FAVORECIDO VALOR PARCELA  \n",
       "0  ***.511.972-**    1.629112e+10  JANAINA FERREIRA DA SILVA        800,00  \n",
       "1  ***.909.745-**    2.047443e+10   TACIANE MARQUES DA SILVA        750,00  \n",
       "2  ***.872.338-**    2.019538e+10   MAILSON DOS SANTOS SILVA        650,00  \n",
       "3  ***.665.905-**    1.272359e+10      IRENI RICARDO GERALDO        650,00  \n",
       "4  ***.932.435-**    2.002458e+10    ELIENE GOMES DOS SANTOS        850,00  "
      ]
     },
     "execution_count": 21,
     "metadata": {},
     "output_type": "execute_result"
    }
   ],
   "source": [
    "df.head()\n",
    "# df\n",
    "# df.describe()"
   ]
  },
  {
   "cell_type": "code",
   "execution_count": null,
   "id": "571b017e",
   "metadata": {},
   "outputs": [
    {
     "data": {
      "text/html": [
       "<div>\n",
       "<style scoped>\n",
       "    .dataframe tbody tr th:only-of-type {\n",
       "        vertical-align: middle;\n",
       "    }\n",
       "\n",
       "    .dataframe tbody tr th {\n",
       "        vertical-align: top;\n",
       "    }\n",
       "\n",
       "    .dataframe thead th {\n",
       "        text-align: right;\n",
       "    }\n",
       "</style>\n",
       "<table border=\"1\" class=\"dataframe\">\n",
       "  <thead>\n",
       "    <tr style=\"text-align: right;\">\n",
       "      <th></th>\n",
       "      <th>MÊS COMPETÊNCIA</th>\n",
       "      <th>MÊS REFERÊNCIA</th>\n",
       "      <th>UF</th>\n",
       "      <th>CÓDIGO MUNICÍPIO SIAFI</th>\n",
       "      <th>NOME MUNICÍPIO</th>\n",
       "      <th>CPF FAVORECIDO</th>\n",
       "      <th>NIS FAVORECIDO</th>\n",
       "      <th>NOME FAVORECIDO</th>\n",
       "      <th>VALOR PARCELA</th>\n",
       "    </tr>\n",
       "  </thead>\n",
       "  <tbody>\n",
       "    <tr>\n",
       "      <th>72094</th>\n",
       "      <td>202401</td>\n",
       "      <td>202310</td>\n",
       "      <td>TO</td>\n",
       "      <td>9665</td>\n",
       "      <td>WANDERLANDIA</td>\n",
       "      <td>***.729.691-**</td>\n",
       "      <td>1.618199e+10</td>\n",
       "      <td>GILDAMAR SINHA BENIGNO</td>\n",
       "      <td>810,00</td>\n",
       "    </tr>\n",
       "    <tr>\n",
       "      <th>121566</th>\n",
       "      <td>202401</td>\n",
       "      <td>202311</td>\n",
       "      <td>TO</td>\n",
       "      <td>9665</td>\n",
       "      <td>WANDERLANDIA</td>\n",
       "      <td>***.729.691-**</td>\n",
       "      <td>1.618199e+10</td>\n",
       "      <td>GILDAMAR SINHA BENIGNO</td>\n",
       "      <td>810,00</td>\n",
       "    </tr>\n",
       "    <tr>\n",
       "      <th>175754</th>\n",
       "      <td>202401</td>\n",
       "      <td>202312</td>\n",
       "      <td>TO</td>\n",
       "      <td>9665</td>\n",
       "      <td>WANDERLANDIA</td>\n",
       "      <td>***.729.691-**</td>\n",
       "      <td>1.618199e+10</td>\n",
       "      <td>GILDAMAR SINHA BENIGNO</td>\n",
       "      <td>810,00</td>\n",
       "    </tr>\n",
       "    <tr>\n",
       "      <th>20830263</th>\n",
       "      <td>202401</td>\n",
       "      <td>202401</td>\n",
       "      <td>TO</td>\n",
       "      <td>9665</td>\n",
       "      <td>WANDERLANDIA</td>\n",
       "      <td>***.688.783-**</td>\n",
       "      <td>2.091861e+10</td>\n",
       "      <td>ABDIAS SOARES SANTANA</td>\n",
       "      <td>600,00</td>\n",
       "    </tr>\n",
       "    <tr>\n",
       "      <th>20830264</th>\n",
       "      <td>202401</td>\n",
       "      <td>202401</td>\n",
       "      <td>TO</td>\n",
       "      <td>9665</td>\n",
       "      <td>WANDERLANDIA</td>\n",
       "      <td>***.826.721-**</td>\n",
       "      <td>2.122337e+10</td>\n",
       "      <td>ACEONE JOSE DE FREITAS</td>\n",
       "      <td>455,00</td>\n",
       "    </tr>\n",
       "    <tr>\n",
       "      <th>...</th>\n",
       "      <td>...</td>\n",
       "      <td>...</td>\n",
       "      <td>...</td>\n",
       "      <td>...</td>\n",
       "      <td>...</td>\n",
       "      <td>...</td>\n",
       "      <td>...</td>\n",
       "      <td>...</td>\n",
       "      <td>...</td>\n",
       "    </tr>\n",
       "    <tr>\n",
       "      <th>20831724</th>\n",
       "      <td>202401</td>\n",
       "      <td>202401</td>\n",
       "      <td>TO</td>\n",
       "      <td>9665</td>\n",
       "      <td>WANDERLANDIA</td>\n",
       "      <td>NaN</td>\n",
       "      <td>1.633356e+10</td>\n",
       "      <td>YASMIM SOARES SILVA</td>\n",
       "      <td>475,00</td>\n",
       "    </tr>\n",
       "    <tr>\n",
       "      <th>20831725</th>\n",
       "      <td>202401</td>\n",
       "      <td>202401</td>\n",
       "      <td>TO</td>\n",
       "      <td>9665</td>\n",
       "      <td>WANDERLANDIA</td>\n",
       "      <td>***.540.251-**</td>\n",
       "      <td>2.061975e+10</td>\n",
       "      <td>ZAIRA FERREIRA DA SILVA PEREIRA</td>\n",
       "      <td>490,00</td>\n",
       "    </tr>\n",
       "    <tr>\n",
       "      <th>20831726</th>\n",
       "      <td>202401</td>\n",
       "      <td>202401</td>\n",
       "      <td>TO</td>\n",
       "      <td>9665</td>\n",
       "      <td>WANDERLANDIA</td>\n",
       "      <td>***.606.461-**</td>\n",
       "      <td>1.653206e+10</td>\n",
       "      <td>ZELIA DAMACENO MATOS</td>\n",
       "      <td>700,00</td>\n",
       "    </tr>\n",
       "    <tr>\n",
       "      <th>20831727</th>\n",
       "      <td>202401</td>\n",
       "      <td>202401</td>\n",
       "      <td>TO</td>\n",
       "      <td>9665</td>\n",
       "      <td>WANDERLANDIA</td>\n",
       "      <td>***.493.771-**</td>\n",
       "      <td>1.653523e+10</td>\n",
       "      <td>ZILDETE DOS SANTOS PAZ</td>\n",
       "      <td>600,00</td>\n",
       "    </tr>\n",
       "    <tr>\n",
       "      <th>20831728</th>\n",
       "      <td>202401</td>\n",
       "      <td>202401</td>\n",
       "      <td>TO</td>\n",
       "      <td>9665</td>\n",
       "      <td>WANDERLANDIA</td>\n",
       "      <td>***.330.523-**</td>\n",
       "      <td>1.606337e+10</td>\n",
       "      <td>ZULEIDE GOMES MACHADO</td>\n",
       "      <td>600,00</td>\n",
       "    </tr>\n",
       "  </tbody>\n",
       "</table>\n",
       "<p>1469 rows × 9 columns</p>\n",
       "</div>"
      ],
      "text/plain": [
       "          MÊS COMPETÊNCIA  MÊS REFERÊNCIA  UF  CÓDIGO MUNICÍPIO SIAFI  \\\n",
       "72094              202401          202310  TO                    9665   \n",
       "121566             202401          202311  TO                    9665   \n",
       "175754             202401          202312  TO                    9665   \n",
       "20830263           202401          202401  TO                    9665   \n",
       "20830264           202401          202401  TO                    9665   \n",
       "...                   ...             ...  ..                     ...   \n",
       "20831724           202401          202401  TO                    9665   \n",
       "20831725           202401          202401  TO                    9665   \n",
       "20831726           202401          202401  TO                    9665   \n",
       "20831727           202401          202401  TO                    9665   \n",
       "20831728           202401          202401  TO                    9665   \n",
       "\n",
       "         NOME MUNICÍPIO  CPF FAVORECIDO  NIS FAVORECIDO  \\\n",
       "72094      WANDERLANDIA  ***.729.691-**    1.618199e+10   \n",
       "121566     WANDERLANDIA  ***.729.691-**    1.618199e+10   \n",
       "175754     WANDERLANDIA  ***.729.691-**    1.618199e+10   \n",
       "20830263   WANDERLANDIA  ***.688.783-**    2.091861e+10   \n",
       "20830264   WANDERLANDIA  ***.826.721-**    2.122337e+10   \n",
       "...                 ...             ...             ...   \n",
       "20831724   WANDERLANDIA             NaN    1.633356e+10   \n",
       "20831725   WANDERLANDIA  ***.540.251-**    2.061975e+10   \n",
       "20831726   WANDERLANDIA  ***.606.461-**    1.653206e+10   \n",
       "20831727   WANDERLANDIA  ***.493.771-**    1.653523e+10   \n",
       "20831728   WANDERLANDIA  ***.330.523-**    1.606337e+10   \n",
       "\n",
       "                          NOME FAVORECIDO VALOR PARCELA  \n",
       "72094              GILDAMAR SINHA BENIGNO        810,00  \n",
       "121566             GILDAMAR SINHA BENIGNO        810,00  \n",
       "175754             GILDAMAR SINHA BENIGNO        810,00  \n",
       "20830263            ABDIAS SOARES SANTANA        600,00  \n",
       "20830264           ACEONE JOSE DE FREITAS        455,00  \n",
       "...                                   ...           ...  \n",
       "20831724              YASMIM SOARES SILVA        475,00  \n",
       "20831725  ZAIRA FERREIRA DA SILVA PEREIRA        490,00  \n",
       "20831726             ZELIA DAMACENO MATOS        700,00  \n",
       "20831727           ZILDETE DOS SANTOS PAZ        600,00  \n",
       "20831728            ZULEIDE GOMES MACHADO        600,00  \n",
       "\n",
       "[1469 rows x 9 columns]"
      ]
     },
     "execution_count": 22,
     "metadata": {},
     "output_type": "execute_result"
    }
   ],
   "source": [
    "df_filtrado_municipio = df[df['NOME MUNICÍPIO'] == 'WANDERLANDIA']\n",
    "df_filtrado_municipio"
   ]
  },
  {
   "cell_type": "markdown",
   "id": "528617f1",
   "metadata": {},
   "source": [
    "### Tentativa errada (o campo está vindo com vírgula e não ponto)"
   ]
  },
  {
   "cell_type": "code",
   "execution_count": 23,
   "id": "9e68d993",
   "metadata": {},
   "outputs": [
    {
     "data": {
      "text/plain": [
       "'810,00810,00810,00600,00455,00600,00750,00600,00300,00650,00816,00600,00650,00650,00600,00205,00716,00992,00800,00750,00540,00325,00600,00900,001060,001002,00650,00766,00750,00600,00800,00600,00650,00650,00600,00440,00205,00910,00600,00600,00750,00600,00600,00750,00288,00750,00600,00750,00850,00750,00616,00640,00750,00900,00600,00650,00600,00600,00800,00750,00590,00750,00650,00650,00600,00850,00750,00750,00750,00750,00750,00840,00650,00790,00400,00576,00750,00600,00900,00650,00800,00440,00850,00900,00600,00650,00950,00490,001110,00600,00490,00590,00640,00600,00440,00950,001060,00800,00650,00325,00700,00600,00640,00640,00900,00650,00650,00750,00600,00470,00750,00600,00650,00800,00750,001000,00490,00600,00750,00750,00650,00440,00600,00400,00700,00490,00750,00750,00950,00600,00600,00450,00750,00750,00600,00325,00750,00511,00750,00750,00750,00750,00375,00600,00950,00700,00600,00600,00650,001202,00750,00600,00440,00600,00650,00600,00650,00600,00600,00650,00600,00300,00750,00600,00700,00375,00600,00900,00650,00900,00750,00800,00862,00650,00650,00750,00750,00750,00650,00900,00750,00850,00950,00750,00650,00650,00490,00600,00650,00600,00600,00750,00900,00900,00650,00573,00700,00750,001010,00750,00490,00325,00700,00580,00700,00800,00490,00600,00650,00650,00620,00600,00520,00600,00650,00600,00600,00600,00350,00800,00900,00300,00600,00350,00800,00900,00230,00750,00650,00800,00600,001012,00300,00600,00600,00690,00650,00800,00600,001394,00600,00650,00600,00800,00800,00600,00650,00750,00900,00750,00600,00600,00600,00800,00750,00750,00850,00960,00490,00750,00750,00750,00750,00350,00650,00650,00750,00790,00750,001060,001050,00640,00800,00750,00750,00600,00700,00600,00600,00816,00800,00440,00750,00600,00800,00600,00900,001000,00600,00640,00490,00650,00900,00600,00440,00800,00600,00600,00600,00850,00600,00600,00750,00650,00600,00700,00700,00860,00650,00650,00800,00600,00600,00300,00650,00540,00790,00600,00600,00600,00700,00950,00650,00540,00600,00600,00601,00490,00600,00890,00700,00650,00363,00650,00600,00600,00600,00600,00600,00700,00600,00700,00440,00950,00700,00325,00300,00600,00750,00540,00440,00600,00650,00650,00600,00440,00800,00600,00600,00650,00600,00650,00650,00800,00325,00810,00750,00800,00540,00490,00650,00600,00600,00600,00650,00640,00600,00740,00600,00650,00640,00600,00750,00375,00650,00600,00960,00600,00350,00425,00490,00490,00740,00750,00900,00600,00300,00600,00325,00700,00600,001142,00600,00566,00800,00600,00590,00490,00900,00430,00600,00600,00440,00600,00650,001210,00600,00600,00540,00600,00700,00860,00750,00540,00440,00600,00490,00590,00540,00490,00800,00650,00800,00600,00914,00600,00590,00490,00700,00475,00750,00750,00700,00850,00600,00700,00650,00600,00700,00590,00600,00490,00650,00800,00640,00900,00800,00600,00590,00700,00800,00440,00600,00600,00600,00600,00450,00600,00800,00794,00750,00950,00750,00600,00650,00750,001087,001110,00750,00440,00900,00650,00650,00640,00900,00305,00640,00960,00440,00810,00600,00600,00700,00205,00650,00540,00950,00325,00711,00750,00750,00280,00600,00305,00600,00850,00600,00850,00900,00800,00440,00440,00900,00440,00900,00750,00600,00205,00750,00600,00650,00850,00600,00325,00650,00490,00600,00900,001184,00400,00350,00650,00740,00650,00600,00590,00600,00205,00650,00600,00700,00600,00750,00900,00750,00600,001110,00600,00600,001484,001039,001252,00490,00440,00600,00700,00700,00600,001244,00650,00375,00600,00600,00600,00600,00300,00325,00600,00800,00750,00600,00750,00810,00600,00600,00540,00600,00375,00600,00850,00600,00800,00590,00700,00610,00400,00650,00900,00790,00600,00650,00325,00650,00600,00600,00750,00600,00375,00600,00750,00700,00700,00700,00600,00440,00600,00750,00650,00800,00600,00650,00600,00650,00300,00600,00350,00600,00600,00600,00600,00900,00600,00600,00375,00440,00600,00600,00600,00490,00650,00600,00600,00600,00600,00658,00600,00860,00600,00800,00640,00790,00600,00700,00600,00440,00700,00600,00490,00750,00600,00375,00750,00590,001000,00750,00506,00902,00440,00600,00600,00350,00600,00750,00800,00850,00661,00900,00300,00750,00950,00750,00600,00650,00740,00840,001000,00750,00600,00800,00650,00280,00600,00750,00600,001110,00950,00600,001252,00800,00900,00900,00750,00900,00600,00650,00800,00950,00650,00750,00750,00750,00750,00600,00650,00750,00700,00850,00600,00400,00750,00750,00750,00590,00650,00650,00996,00440,00400,001252,00490,00540,00750,00600,00325,00650,00405,00750,00600,00600,00450,00690,00750,00440,00650,00375,00750,001302,00790,00932,00784,00640,00600,00650,00600,00300,00350,00600,00440,00850,00800,00790,00700,00540,00650,00531,00700,00440,00650,00650,00600,00425,00600,00300,00950,00650,00900,00600,00800,00950,00750,00440,00600,00750,00842,00375,00400,00490,00750,00600,00490,00800,00750,00600,00800,00850,00350,00650,00388,00810,00650,00650,00700,00600,00255,00600,00400,00640,00540,00790,00650,00650,00992,00750,00600,001000,00650,00750,00600,00600,00300,00750,00830,00350,00300,00300,00350,00600,00650,00640,001352,00600,001476,00650,001234,00800,001160,00650,00600,001442,001110,00750,00650,00750,00700,00600,00650,00600,00600,00600,00600,00600,00750,00600,00800,00750,001060,00750,00800,00590,00700,00650,00700,00750,00600,00650,00600,00600,00600,00490,00690,00600,00600,00600,00740,00280,00650,00800,00509,00600,00600,00600,00600,00650,00650,00640,00300,00600,00900,00800,00750,00600,00325,00490,00650,00750,00490,00650,00910,00640,00440,00600,00700,00810,00600,00350,00600,00440,00600,00800,00600,00600,00325,00650,00750,00325,00700,00600,00600,00750,00600,00750,00440,00650,00700,00501,00300,00600,00600,00600,00440,00700,00490,00440,001050,00850,00600,00600,00950,00205,00600,00650,00740,00300,00440,00600,00650,00750,00600,00325,00700,00490,00600,00650,00600,00600,00600,00440,001252,00600,00440,00650,00700,00451,00540,00600,00600,00600,00900,00750,00750,00750,00750,00640,00650,00750,00750,00700,00600,00600,00600,00600,00650,00600,00540,00700,00600,00300,00950,00650,00650,00325,00650,00600,00180,00650,00300,00650,00650,00600,00650,00790,00600,00740,001052,00600,00440,00540,00952,00800,00300,00700,00650,00650,00810,00600,00650,00650,00540,00650,00600,00690,00650,00600,00300,00750,00650,00650,00537,00750,00600,00950,00255,00950,00501,00180,00900,00205,00600,00900,00700,00800,00650,00288,00800,001102,00600,00600,00540,00634,00630,00900,00325,00490,00750,00600,00700,00600,00750,00600,00476,00650,00750,00600,00600,00800,00590,00480,00800,00690,00600,00600,00540,00600,00650,00601,00850,00926,00650,00650,00650,00600,00600,00650,00759,00440,00325,00850,00650,00325,00800,00700,00850,00325,00750,00650,00600,00950,001050,00750,001002,00750,00950,001152,00800,00750,00750,00750,00440,00700,00600,00826,00850,00490,00640,00900,00600,00350,00700,00750,00400,001050,00600,00440,00950,00800,00900,00750,00750,00750,00700,00750,00900,00650,00750,00590,00900,00555,00600,00600,00600,00650,00700,00650,00600,00325,00600,00600,00800,00750,001050,00600,00600,00650,00300,00700,00600,00600,00540,00701,00650,00650,00650,00700,00600,00325,00790,001010,00400,00740,00490,00590,00950,00590,001010,00850,00750,00600,00750,00450,00750,00710,00600,00700,00600,00600,001152,00800,00650,00650,00900,00600,00800,00800,00900,00860,00750,00750,00750,00490,00300,00910,00650,00325,00750,00800,00490,00600,00600,00650,00650,00600,00600,00600,00600,00600,00600,00600,00600,00750,00540,00740,00800,001152,00800,00750,00800,00750,00900,00750,001000,00600,00950,00800,00325,00325,00800,00600,00440,00325,00950,00600,00750,00930,00900,00650,00440,00650,00700,00750,00650,00900,00380,00860,00960,00600,00600,00600,00700,00600,00600,00600,00600,00700,00440,00700,00650,00750,00180,00350,00400,00490,00440,00700,00750,00600,00800,00600,00750,00850,00600,00600,001010,00960,00600,00325,00600,00230,00650,00490,00760,00724,00600,00600,00600,00300,00700,00490,00800,00600,00600,00650,00650,00700,00750,00800,00800,00688,00590,00950,00800,00900,00750,00600,00650,00850,00860,00750,00700,00600,00280,00750,00750,00650,00750,001060,00490,00600,00600,00840,00750,00790,00350,00600,00650,00600,00600,00490,00375,00650,00600,00540,00600,00700,001436,00440,00600,00460,001302,00626,00750,00650,00800,00650,00700,00650,00690,00600,00864,00740,00650,00325,00710,00590,00440,00440,00440,00325,00750,00700,001234,00590,00900,00750,00650,00900,00740,00640,00590,00750,00650,00375,00600,00750,00350,00850,00900,00600,00600,00750,00750,00850,00800,00750,00650,00666,00900,00740,00400,00540,00750,00900,00750,00300,00950,00650,00590,00902,00650,00942,00600,001010,00325,00300,00650,00600,00600,00670,00600,00600,00650,00910,00810,00750,00750,00700,00750,00750,001142,00650,00750,00650,00650,00750,00600,00451,00600,00800,00600,00950,00750,00700,00700,00600,00650,00650,00850,00650,00800,001060,00255,00700,00700,00650,00650,00600,00600,00900,00600,00590,00600,00650,00750,00600,00375,00950,00600,00450,00650,00650,00375,00750,00750,00440,00900,00475,00490,00700,00600,00600,00'"
      ]
     },
     "execution_count": 23,
     "metadata": {},
     "output_type": "execute_result"
    }
   ],
   "source": [
    "soma_parcelas = df_filtrado_municipio['VALOR PARCELA'].sum()\n",
    "soma_parcelas"
   ]
  },
  {
   "cell_type": "markdown",
   "id": "4116f662",
   "metadata": {},
   "source": [
    "### Tentativa correta"
   ]
  },
  {
   "cell_type": "code",
   "execution_count": 24,
   "id": "6a1efc52",
   "metadata": {},
   "outputs": [
    {
     "data": {
      "text/plain": [
       "972538.0"
      ]
     },
     "execution_count": 24,
     "metadata": {},
     "output_type": "execute_result"
    }
   ],
   "source": [
    "soma_parcelas = df_filtrado_municipio['VALOR PARCELA'].str.replace(',', '.').astype(float)\n",
    "total = soma_parcelas.sum()\n",
    "total"
   ]
  },
  {
   "cell_type": "markdown",
   "id": "510769c4",
   "metadata": {},
   "source": [
    "### URL do arquivo de março"
   ]
  },
  {
   "cell_type": "code",
   "execution_count": 26,
   "id": "ec4732a2",
   "metadata": {},
   "outputs": [],
   "source": [
    "url = 'https://portaldatransparencia.gov.br/download-de-dados/novo-bolsa-familia/202403'"
   ]
  },
  {
   "cell_type": "code",
   "execution_count": 27,
   "id": "c6224fa8",
   "metadata": {},
   "outputs": [
    {
     "name": "stdout",
     "output_type": "stream",
     "text": [
      "Tamanho do arquivo: 365124681B, (348.21MB)\n"
     ]
    }
   ],
   "source": [
    "# Baixar, extrair e ler os dados de 03/2024\n",
    "df = baixar_e_extrair_dados(url)"
   ]
  },
  {
   "cell_type": "code",
   "execution_count": 30,
   "id": "f475854d",
   "metadata": {},
   "outputs": [
    {
     "data": {
      "text/plain": [
       "0           PA\n",
       "1           PA\n",
       "2           AM\n",
       "3           BA\n",
       "4           BA\n",
       "            ..\n",
       "20534085    TO\n",
       "20534086    TO\n",
       "20534087    TO\n",
       "20534088    TO\n",
       "20534089    TO\n",
       "Name: UF, Length: 20534090, dtype: object"
      ]
     },
     "execution_count": 30,
     "metadata": {},
     "output_type": "execute_result"
    }
   ],
   "source": [
    "df_filtrado_uf = df['UF']\n",
    "df_filtrado_uf"
   ]
  },
  {
   "cell_type": "code",
   "execution_count": 32,
   "id": "952fe90d",
   "metadata": {},
   "outputs": [
    {
     "data": {
      "text/plain": [
       "UF\n",
       "SP    2493243\n",
       "BA    2445216\n",
       "RJ    1673124\n",
       "PE    1576690\n",
       "MG    1575003\n",
       "CE    1455369\n",
       "PA    1328423\n",
       "MA    1203858\n",
       "PB     666232\n",
       "AM     634141\n",
       "RS     609188\n",
       "PR     597560\n",
       "PI     596840\n",
       "AL     535105\n",
       "GO     504482\n",
       "RN     499842\n",
       "SE     378152\n",
       "ES     299399\n",
       "MT     254439\n",
       "SC     223305\n",
       "MS     204809\n",
       "DF     185046\n",
       "TO     156352\n",
       "AC     128859\n",
       "RO     121860\n",
       "AP     115126\n",
       "RR      72427\n",
       "Name: count, dtype: int64"
      ]
     },
     "execution_count": 32,
     "metadata": {},
     "output_type": "execute_result"
    }
   ],
   "source": [
    "df_frequencia_uf = df_filtrado_uf.value_counts()\n",
    "df_frequencia_uf"
   ]
  },
  {
   "cell_type": "code",
   "execution_count": 33,
   "id": "668e57cb",
   "metadata": {},
   "outputs": [
    {
     "data": {
      "text/html": [
       "<style type=\"text/css\">\n",
       "</style>\n",
       "<table id=\"T_47de1\">\n",
       "  <thead>\n",
       "    <tr>\n",
       "      <th class=\"blank level0\" >&nbsp;</th>\n",
       "      <th id=\"T_47de1_level0_col0\" class=\"col_heading level0 col0\" >count</th>\n",
       "    </tr>\n",
       "    <tr>\n",
       "      <th class=\"index_name level0\" >UF</th>\n",
       "      <th class=\"blank col0\" >&nbsp;</th>\n",
       "    </tr>\n",
       "  </thead>\n",
       "  <tbody>\n",
       "    <tr>\n",
       "      <th id=\"T_47de1_level0_row0\" class=\"row_heading level0 row0\" >SP</th>\n",
       "      <td id=\"T_47de1_row0_col0\" class=\"data row0 col0\" >2,493,243</td>\n",
       "    </tr>\n",
       "    <tr>\n",
       "      <th id=\"T_47de1_level0_row1\" class=\"row_heading level0 row1\" >BA</th>\n",
       "      <td id=\"T_47de1_row1_col0\" class=\"data row1 col0\" >2,445,216</td>\n",
       "    </tr>\n",
       "    <tr>\n",
       "      <th id=\"T_47de1_level0_row2\" class=\"row_heading level0 row2\" >RJ</th>\n",
       "      <td id=\"T_47de1_row2_col0\" class=\"data row2 col0\" >1,673,124</td>\n",
       "    </tr>\n",
       "    <tr>\n",
       "      <th id=\"T_47de1_level0_row3\" class=\"row_heading level0 row3\" >PE</th>\n",
       "      <td id=\"T_47de1_row3_col0\" class=\"data row3 col0\" >1,576,690</td>\n",
       "    </tr>\n",
       "    <tr>\n",
       "      <th id=\"T_47de1_level0_row4\" class=\"row_heading level0 row4\" >MG</th>\n",
       "      <td id=\"T_47de1_row4_col0\" class=\"data row4 col0\" >1,575,003</td>\n",
       "    </tr>\n",
       "    <tr>\n",
       "      <th id=\"T_47de1_level0_row5\" class=\"row_heading level0 row5\" >CE</th>\n",
       "      <td id=\"T_47de1_row5_col0\" class=\"data row5 col0\" >1,455,369</td>\n",
       "    </tr>\n",
       "    <tr>\n",
       "      <th id=\"T_47de1_level0_row6\" class=\"row_heading level0 row6\" >PA</th>\n",
       "      <td id=\"T_47de1_row6_col0\" class=\"data row6 col0\" >1,328,423</td>\n",
       "    </tr>\n",
       "    <tr>\n",
       "      <th id=\"T_47de1_level0_row7\" class=\"row_heading level0 row7\" >MA</th>\n",
       "      <td id=\"T_47de1_row7_col0\" class=\"data row7 col0\" >1,203,858</td>\n",
       "    </tr>\n",
       "    <tr>\n",
       "      <th id=\"T_47de1_level0_row8\" class=\"row_heading level0 row8\" >PB</th>\n",
       "      <td id=\"T_47de1_row8_col0\" class=\"data row8 col0\" >666,232</td>\n",
       "    </tr>\n",
       "    <tr>\n",
       "      <th id=\"T_47de1_level0_row9\" class=\"row_heading level0 row9\" >AM</th>\n",
       "      <td id=\"T_47de1_row9_col0\" class=\"data row9 col0\" >634,141</td>\n",
       "    </tr>\n",
       "    <tr>\n",
       "      <th id=\"T_47de1_level0_row10\" class=\"row_heading level0 row10\" >RS</th>\n",
       "      <td id=\"T_47de1_row10_col0\" class=\"data row10 col0\" >609,188</td>\n",
       "    </tr>\n",
       "    <tr>\n",
       "      <th id=\"T_47de1_level0_row11\" class=\"row_heading level0 row11\" >PR</th>\n",
       "      <td id=\"T_47de1_row11_col0\" class=\"data row11 col0\" >597,560</td>\n",
       "    </tr>\n",
       "    <tr>\n",
       "      <th id=\"T_47de1_level0_row12\" class=\"row_heading level0 row12\" >PI</th>\n",
       "      <td id=\"T_47de1_row12_col0\" class=\"data row12 col0\" >596,840</td>\n",
       "    </tr>\n",
       "    <tr>\n",
       "      <th id=\"T_47de1_level0_row13\" class=\"row_heading level0 row13\" >AL</th>\n",
       "      <td id=\"T_47de1_row13_col0\" class=\"data row13 col0\" >535,105</td>\n",
       "    </tr>\n",
       "    <tr>\n",
       "      <th id=\"T_47de1_level0_row14\" class=\"row_heading level0 row14\" >GO</th>\n",
       "      <td id=\"T_47de1_row14_col0\" class=\"data row14 col0\" >504,482</td>\n",
       "    </tr>\n",
       "    <tr>\n",
       "      <th id=\"T_47de1_level0_row15\" class=\"row_heading level0 row15\" >RN</th>\n",
       "      <td id=\"T_47de1_row15_col0\" class=\"data row15 col0\" >499,842</td>\n",
       "    </tr>\n",
       "    <tr>\n",
       "      <th id=\"T_47de1_level0_row16\" class=\"row_heading level0 row16\" >SE</th>\n",
       "      <td id=\"T_47de1_row16_col0\" class=\"data row16 col0\" >378,152</td>\n",
       "    </tr>\n",
       "    <tr>\n",
       "      <th id=\"T_47de1_level0_row17\" class=\"row_heading level0 row17\" >ES</th>\n",
       "      <td id=\"T_47de1_row17_col0\" class=\"data row17 col0\" >299,399</td>\n",
       "    </tr>\n",
       "    <tr>\n",
       "      <th id=\"T_47de1_level0_row18\" class=\"row_heading level0 row18\" >MT</th>\n",
       "      <td id=\"T_47de1_row18_col0\" class=\"data row18 col0\" >254,439</td>\n",
       "    </tr>\n",
       "    <tr>\n",
       "      <th id=\"T_47de1_level0_row19\" class=\"row_heading level0 row19\" >SC</th>\n",
       "      <td id=\"T_47de1_row19_col0\" class=\"data row19 col0\" >223,305</td>\n",
       "    </tr>\n",
       "    <tr>\n",
       "      <th id=\"T_47de1_level0_row20\" class=\"row_heading level0 row20\" >MS</th>\n",
       "      <td id=\"T_47de1_row20_col0\" class=\"data row20 col0\" >204,809</td>\n",
       "    </tr>\n",
       "    <tr>\n",
       "      <th id=\"T_47de1_level0_row21\" class=\"row_heading level0 row21\" >DF</th>\n",
       "      <td id=\"T_47de1_row21_col0\" class=\"data row21 col0\" >185,046</td>\n",
       "    </tr>\n",
       "    <tr>\n",
       "      <th id=\"T_47de1_level0_row22\" class=\"row_heading level0 row22\" >TO</th>\n",
       "      <td id=\"T_47de1_row22_col0\" class=\"data row22 col0\" >156,352</td>\n",
       "    </tr>\n",
       "    <tr>\n",
       "      <th id=\"T_47de1_level0_row23\" class=\"row_heading level0 row23\" >AC</th>\n",
       "      <td id=\"T_47de1_row23_col0\" class=\"data row23 col0\" >128,859</td>\n",
       "    </tr>\n",
       "    <tr>\n",
       "      <th id=\"T_47de1_level0_row24\" class=\"row_heading level0 row24\" >RO</th>\n",
       "      <td id=\"T_47de1_row24_col0\" class=\"data row24 col0\" >121,860</td>\n",
       "    </tr>\n",
       "    <tr>\n",
       "      <th id=\"T_47de1_level0_row25\" class=\"row_heading level0 row25\" >AP</th>\n",
       "      <td id=\"T_47de1_row25_col0\" class=\"data row25 col0\" >115,126</td>\n",
       "    </tr>\n",
       "    <tr>\n",
       "      <th id=\"T_47de1_level0_row26\" class=\"row_heading level0 row26\" >RR</th>\n",
       "      <td id=\"T_47de1_row26_col0\" class=\"data row26 col0\" >72,427</td>\n",
       "    </tr>\n",
       "  </tbody>\n",
       "</table>\n"
      ],
      "text/plain": [
       "<pandas.io.formats.style.Styler at 0x220501fce90>"
      ]
     },
     "execution_count": 33,
     "metadata": {},
     "output_type": "execute_result"
    }
   ],
   "source": [
    "df_frequencia_formatada = df_frequencia_uf.to_frame().style.format('{:,}')\n",
    "df_frequencia_formatada"
   ]
  },
  {
   "cell_type": "code",
   "execution_count": 34,
   "id": "1c0464a1",
   "metadata": {},
   "outputs": [
    {
     "data": {
      "text/plain": [
       "'SP'"
      ]
     },
     "execution_count": 34,
     "metadata": {},
     "output_type": "execute_result"
    }
   ],
   "source": [
    "df_uf_mais_frequente = df_frequencia_uf.idxmax()\n",
    "df_uf_mais_frequente"
   ]
  }
 ],
 "metadata": {
  "kernelspec": {
   "display_name": "base",
   "language": "python",
   "name": "python3"
  },
  "language_info": {
   "codemirror_mode": {
    "name": "ipython",
    "version": 3
   },
   "file_extension": ".py",
   "mimetype": "text/x-python",
   "name": "python",
   "nbconvert_exporter": "python",
   "pygments_lexer": "ipython3",
   "version": "3.12.7"
  }
 },
 "nbformat": 4,
 "nbformat_minor": 5
}
